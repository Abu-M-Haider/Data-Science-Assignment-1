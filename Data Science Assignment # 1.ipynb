{
 "cells": [
  {
   "cell_type": "markdown",
   "id": "26c61606",
   "metadata": {},
   "source": [
    "# Get the Python Version"
   ]
  },
  {
   "cell_type": "code",
   "execution_count": 1,
   "id": "bd887f5b",
   "metadata": {},
   "outputs": [
    {
     "name": "stdout",
     "output_type": "stream",
     "text": [
      "3.8.8\n"
     ]
    }
   ],
   "source": [
    "import platform\n",
    "print(platform.python_version())"
   ]
  },
  {
   "cell_type": "markdown",
   "id": "b643b742",
   "metadata": {},
   "source": [
    "# Get the Current Date and Time"
   ]
  },
  {
   "cell_type": "code",
   "execution_count": 2,
   "id": "a707c76e",
   "metadata": {},
   "outputs": [
    {
     "name": "stdout",
     "output_type": "stream",
     "text": [
      "Current date and time : \n",
      "2022-01-01 21:13:24\n"
     ]
    }
   ],
   "source": [
    "import datetime\n",
    "now = datetime.datetime.now()\n",
    "print (\"Current date and time : \")\n",
    "print (now.strftime(\"%Y-%m-%d %H:%M:%S\"))"
   ]
  },
  {
   "cell_type": "markdown",
   "id": "76144448",
   "metadata": {},
   "source": [
    "# Accept the Radius from the user and compute the Area"
   ]
  },
  {
   "cell_type": "code",
   "execution_count": 3,
   "id": "e1c4eea5",
   "metadata": {},
   "outputs": [
    {
     "name": "stdout",
     "output_type": "stream",
     "text": [
      "Input the radius of the circle : 4\n",
      "The area of the circle with radius 4.0 is: 50.26548245743669\n"
     ]
    }
   ],
   "source": [
    "# import math module\n",
    "from math import pi\n",
    " \n",
    "# take input from user\n",
    "r = float(input (\"Input the radius of the circle : \"))\n",
    " \n",
    "# compute the area from radius of a circle given by user\n",
    "calculateArea = str(pi * r**2);\n",
    " \n",
    "#print result\n",
    "print (\"The area of the circle with radius \" + str(r) + \" is: \" + calculateArea)"
   ]
  },
  {
   "cell_type": "markdown",
   "id": "1c81cc5e",
   "metadata": {},
   "source": [
    "# Accept user first and last name and print it Reverse  order with Space between them"
   ]
  },
  {
   "cell_type": "code",
   "execution_count": 5,
   "id": "56d00fdd",
   "metadata": {},
   "outputs": [
    {
     "name": "stdout",
     "output_type": "stream",
     "text": [
      "Input your First Name : Muhammad Wasim\n",
      "Input your Last Name : Shah Muhammad\n",
      "Shah Muhammad Muhammad Wasim\n"
     ]
    }
   ],
   "source": [
    "firstname = input(\"Input your First Name : \")\n",
    "lastname = input(\"Input your Last Name : \")\n",
    "print (lastname + \" \" + firstname)"
   ]
  },
  {
   "cell_type": "markdown",
   "id": "a8e33017",
   "metadata": {},
   "source": [
    "# Take two inputs from user and print them Addition"
   ]
  },
  {
   "cell_type": "code",
   "execution_count": 1,
   "id": "58f7914b",
   "metadata": {},
   "outputs": [
    {
     "name": "stdout",
     "output_type": "stream",
     "text": [
      "Enter first number: 5\n",
      "Enter second number: 5\n",
      "sum: 10\n"
     ]
    }
   ],
   "source": [
    "a = int(input(\"Enter first number: \"))\n",
    "b = int(input(\"Enter second number: \"))\n",
    "sum = a + b\n",
    "print(\"sum:\", sum)"
   ]
  },
  {
   "cell_type": "markdown",
   "id": "1a7b52c7",
   "metadata": {},
   "source": [
    "# Print the string"
   ]
  },
  {
   "cell_type": "code",
   "execution_count": 2,
   "id": "1a38917d",
   "metadata": {},
   "outputs": [
    {
     "name": "stdout",
     "output_type": "stream",
     "text": [
      "Twinkle, twinkle, little star, \n",
      "\tHow I wonder what you are! \n",
      "\t\tUp above the world so high, \n",
      "\t\tLike a diamond in the sky. \n",
      "Twinkle, twinkle, little star, \n",
      "\tHow I wonder what you are!\n"
     ]
    }
   ],
   "source": [
    "print(\"Twinkle, twinkle, little star, \\n\\tHow I wonder what you are! \\n\\t\\tUp above the world so high, \\n\\t\\tLike a diamond in the sky. \\nTwinkle, twinkle, little star, \\n\\tHow I wonder what you are!\")"
   ]
  },
  {
   "cell_type": "code",
   "execution_count": null,
   "id": "bb1c3909",
   "metadata": {},
   "outputs": [],
   "source": []
  }
 ],
 "metadata": {
  "kernelspec": {
   "display_name": "Python 3",
   "language": "python",
   "name": "python3"
  },
  "language_info": {
   "codemirror_mode": {
    "name": "ipython",
    "version": 3
   },
   "file_extension": ".py",
   "mimetype": "text/x-python",
   "name": "python",
   "nbconvert_exporter": "python",
   "pygments_lexer": "ipython3",
   "version": "3.8.8"
  }
 },
 "nbformat": 4,
 "nbformat_minor": 5
}
